{
 "cells": [
  {
   "cell_type": "code",
   "execution_count": 17,
   "id": "197ca6c9-ffe6-4f55-a7b4-131699219d28",
   "metadata": {},
   "outputs": [
    {
     "name": "stdin",
     "output_type": "stream",
     "text": [
      "Digite a sua idade:   22\n"
     ]
    }
   ],
   "source": [
    "idade = int(input(\"Digite a sua idade:  \"))"
   ]
  },
  {
   "cell_type": "code",
   "execution_count": 19,
   "id": "9a6f3529-4cc6-40bf-aa95-87aa4ce8a008",
   "metadata": {},
   "outputs": [
    {
     "data": {
      "text/plain": [
       "int"
      ]
     },
     "execution_count": 19,
     "metadata": {},
     "output_type": "execute_result"
    }
   ],
   "source": [
    "type(idade)"
   ]
  },
  {
   "cell_type": "code",
   "execution_count": 21,
   "id": "29ad3d57-f398-4297-a331-b86f9dba1264",
   "metadata": {},
   "outputs": [
    {
     "name": "stdout",
     "output_type": "stream",
     "text": [
      "Você já é maior de idade!\n",
      "Fim!\n"
     ]
    }
   ],
   "source": [
    "if idade >= 18:\n",
    "    print(\"Você já é maior de idade!\")\n",
    "else:\n",
    "    print(\"Espere mais um pouco!\")\n",
    "print(\"Fim!\")"
   ]
  },
  {
   "cell_type": "code",
   "execution_count": 27,
   "id": "0fb02b10-f2ba-45ca-9674-78ad85f455ca",
   "metadata": {},
   "outputs": [
    {
     "name": "stdin",
     "output_type": "stream",
     "text": [
      "Digite a nota1:  6\n",
      "Digite a nota2:  7.5\n"
     ]
    },
    {
     "name": "stdout",
     "output_type": "stream",
     "text": [
      "A média foi:  6.75\n",
      "Aprovado(a)!!\n"
     ]
    }
   ],
   "source": [
    "nota1 = float(input(\"Digite a nota1: \"))\n",
    "nota2 = float(input(\"Digite a nota2: \"))\n",
    "media = (nota1 + nota2) / 2\n",
    "print(\"A média foi: \", media)\n",
    "if media >= 6:\n",
    "    print(\"Aprovado(a)!!\")\n",
    "else: \n",
    "    print(\"Reprovado(a)!!\")\n",
    "    "
   ]
  },
  {
   "cell_type": "code",
   "execution_count": 31,
   "id": "0b9b9eb9-7593-40ad-9d38-c4e68624d9df",
   "metadata": {},
   "outputs": [
    {
     "name": "stdin",
     "output_type": "stream",
     "text": [
      "Digite um número:  8\n"
     ]
    },
    {
     "name": "stdout",
     "output_type": "stream",
     "text": [
      "O número é positivo\n",
      "Fim!\n"
     ]
    }
   ],
   "source": [
    "numero = int(input(\"Digite um número: \"))\n",
    "if numero >= 0:\n",
    "    print(\"O número é positivo\")\n",
    "print(\"Fim!\")\n",
    "          "
   ]
  },
  {
   "cell_type": "code",
   "execution_count": 48,
   "id": "de7a0c2b-c4cf-4c8f-b2d3-440d2e574cff",
   "metadata": {},
   "outputs": [
    {
     "name": "stdin",
     "output_type": "stream",
     "text": [
      "Digite o primeiro número:  8\n",
      "Digite o segundo número:  5\n"
     ]
    },
    {
     "name": "stdout",
     "output_type": "stream",
     "text": [
      "8.0 é maior que 5.0\n"
     ]
    }
   ],
   "source": [
    "# aqui vamos fazer a entrada de dados\n",
    "n1 = float(input(\"Digite o primeiro número: \"))\n",
    "n2 = float(input(\"Digite o segundo número: \"))\n",
    "# agora vamos fazer a comparação dos números\n",
    "if n1 > n2:\n",
    "    print(n1, \"é maior que\", n2) # n1 > que n2\n",
    "else:\n",
    "    print(n2, \"é maior ou igual a\", n1) #n2 >= n1"
   ]
  },
  {
   "cell_type": "code",
   "execution_count": 52,
   "id": "fad61c16-7e59-4b45-a717-d94165501391",
   "metadata": {},
   "outputs": [
    {
     "name": "stdin",
     "output_type": "stream",
     "text": [
      "Digite uma letra:  g\n"
     ]
    },
    {
     "name": "stdout",
     "output_type": "stream",
     "text": [
      "A letra digitada é uma consoante!\n"
     ]
    }
   ],
   "source": [
    "letra = input(\"Digite uma letra: \")\n",
    "if letra == 'a' or letra == 'A': \n",
    "    print('A letra digitada é uma vogal!')\n",
    "elif letra == \"e\" or letra == \"E\":\n",
    "    print('A letra digitada é uma vogal!')\n",
    "elif letra == 'i' or letra == 'I':\n",
    "    print('A letra digitada é uma vogal!')\n",
    "elif letra == 'o' or letra == 'O':\n",
    "    print('A letra digitada é uma vogal!')\n",
    "elif letra == 'u' or  letra == 'U':\n",
    "    print('A letra digitada é uma vogal!')\n",
    "else:\n",
    "    print('A letra digitada é uma consoante!')\n",
    "    \n",
    "    "
   ]
  },
  {
   "cell_type": "code",
   "execution_count": 62,
   "id": "d0755955-2ced-43a5-857c-e14601c7c146",
   "metadata": {},
   "outputs": [
    {
     "name": "stdin",
     "output_type": "stream",
     "text": [
      " Entre com um número:   7\n"
     ]
    },
    {
     "name": "stdout",
     "output_type": "stream",
     "text": [
      "7  é impar positivo!\n"
     ]
    }
   ],
   "source": [
    "n = int(input(\" Entre com um número:  \"))\n",
    "if (n >= 0):\n",
    "    if (n % 2) == 0:\n",
    "        print(n, \" é par positivo!\")\n",
    "    else:\n",
    "        print (n, \" é impar positivo!\")\n",
    "else:\n",
    "    if (abs(n) % 2) == 0:\n",
    "        print(n, \" é par negativo!\")\n",
    "    else:\n",
    "        print(n, \" é impar negativo!\")"
   ]
  },
  {
   "cell_type": "code",
   "execution_count": 68,
   "id": "160cbe1b-5d62-4e0f-98fb-89c730641367",
   "metadata": {},
   "outputs": [
    {
     "name": "stdin",
     "output_type": "stream",
     "text": [
      "Digite a idade do nadador:  16\n"
     ]
    },
    {
     "name": "stdout",
     "output_type": "stream",
     "text": [
      "Categoria Adulto\n"
     ]
    }
   ],
   "source": [
    "idade = int(input(\"Digite a idade do nadador: \"))\n",
    "if idade < 5:\n",
    "    print(\"Categoria Inexistente!\")\n",
    "elif idade <= 7:\n",
    "    print(\"Categoria Infantil\")\n",
    "elif idade <= 10:\n",
    "    print(\"Categoria Juvenil\")\n",
    "elif idade <= 15:\n",
    "    print (\"Categoria Adolescente\")\n",
    "elif idade <= 30:\n",
    "    print (\"Categoria Adulto\")\n",
    "else:\n",
    "    print(\"Categoria Sênior\")"
   ]
  },
  {
   "cell_type": "code",
   "execution_count": null,
   "id": "989ecbb4-9d14-481e-9bbc-f7e98edec3c9",
   "metadata": {},
   "outputs": [],
   "source": []
  }
 ],
 "metadata": {
  "kernelspec": {
   "display_name": "Python [conda env:anaconda3]",
   "language": "python",
   "name": "conda-env-anaconda3-py"
  },
  "language_info": {
   "codemirror_mode": {
    "name": "ipython",
    "version": 3
   },
   "file_extension": ".py",
   "mimetype": "text/x-python",
   "name": "python",
   "nbconvert_exporter": "python",
   "pygments_lexer": "ipython3",
   "version": "3.13.5"
  }
 },
 "nbformat": 4,
 "nbformat_minor": 5
}
