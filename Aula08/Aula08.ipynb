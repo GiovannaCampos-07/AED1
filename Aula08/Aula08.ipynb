{
 "cells": [
  {
   "cell_type": "markdown",
   "id": "f383d650-a3d3-407e-9d1f-b7aaca785ad8",
   "metadata": {},
   "source": [
    "### Desenvolvimento de um Jogo de Adivinhar Números\n",
    "\n",
    "Como deve funcionar?\n",
    "\n",
    "- o computador sorteia um número secreto dentro de um intervalo (ex: 1 a 50)\n",
    "- o jogador tenta adivinhar esse número.\n",
    "- A cada tentativa, o programa responde se o palpite do usuário é maior ou menor que o número secreto, até que o jogador acerte. "
   ]
  },
  {
   "cell_type": "code",
   "execution_count": 11,
   "id": "334022d0-693b-4e8e-bbf8-9f887ef10905",
   "metadata": {},
   "outputs": [],
   "source": [
    "# Obter um número aleatório \n",
    "# Carregar a função randint () do pacote random\n",
    "from random import randint"
   ]
  },
  {
   "cell_type": "code",
   "execution_count": 13,
   "id": "15868eca-5e4f-40b9-86dc-89c5a0a0f8da",
   "metadata": {},
   "outputs": [],
   "source": [
    "# Carregar em uma variável o valor aleatório \n",
    "n = randint(1, 100)"
   ]
  },
  {
   "cell_type": "code",
   "execution_count": 18,
   "id": "c0d2287c-51bd-4332-876f-440fdc6af431",
   "metadata": {},
   "outputs": [
    {
     "name": "stdin",
     "output_type": "stream",
     "text": [
      "Digite um palpite entre 1 e 100>:  80\n"
     ]
    },
    {
     "name": "stdout",
     "output_type": "stream",
     "text": [
      "Seu palpite foi maior. Tente um número menor!\n",
      "Seu palpite está FRIO\n"
     ]
    },
    {
     "name": "stdin",
     "output_type": "stream",
     "text": [
      "Digite um palpite entre 1 e 100>:  70\n"
     ]
    },
    {
     "name": "stdout",
     "output_type": "stream",
     "text": [
      "Seu palpite foi maior. Tente um número menor!\n",
      "Seu palpite está FRIO\n"
     ]
    },
    {
     "name": "stdin",
     "output_type": "stream",
     "text": [
      "Digite um palpite entre 1 e 100>:  60\n"
     ]
    },
    {
     "name": "stdout",
     "output_type": "stream",
     "text": [
      "Seu palpite foi maior. Tente um número menor!\n",
      "Seu palpite está FRIO\n"
     ]
    },
    {
     "name": "stdin",
     "output_type": "stream",
     "text": [
      "Digite um palpite entre 1 e 100>:  50\n"
     ]
    },
    {
     "name": "stdout",
     "output_type": "stream",
     "text": [
      "Seu palpite foi maior. Tente um número menor!\n",
      "Seu palpite está FRIO\n"
     ]
    },
    {
     "name": "stdin",
     "output_type": "stream",
     "text": [
      "Digite um palpite entre 1 e 100>:  40\n"
     ]
    },
    {
     "name": "stdout",
     "output_type": "stream",
     "text": [
      "Seu palpite foi maior. Tente um número menor!\n",
      "Seu palpite está FRIO\n"
     ]
    },
    {
     "name": "stdin",
     "output_type": "stream",
     "text": [
      "Digite um palpite entre 1 e 100>:  30\n"
     ]
    },
    {
     "name": "stdout",
     "output_type": "stream",
     "text": [
      "Seu palpite foi maior. Tente um número menor!\n",
      "Seu palpite está FRIO\n"
     ]
    },
    {
     "name": "stdin",
     "output_type": "stream",
     "text": [
      "Digite um palpite entre 1 e 100>:  20\n"
     ]
    },
    {
     "name": "stdout",
     "output_type": "stream",
     "text": [
      "Seu palpite foi maior. Tente um número menor!\n",
      "Seu palpite está QUENTE\n"
     ]
    },
    {
     "name": "stdin",
     "output_type": "stream",
     "text": [
      "Digite um palpite entre 1 e 100>:  10\n"
     ]
    },
    {
     "name": "stdout",
     "output_type": "stream",
     "text": [
      "Seu palpite foi menor. Tente um número maior!\n",
      "Seu palpite está FRIO\n"
     ]
    },
    {
     "name": "stdin",
     "output_type": "stream",
     "text": [
      "Digite um palpite entre 1 e 100>:  15\n"
     ]
    },
    {
     "name": "stdout",
     "output_type": "stream",
     "text": [
      "Seu palpite foi menor. Tente um número maior!\n",
      "Seu palpite está QUENTE\n"
     ]
    },
    {
     "name": "stdin",
     "output_type": "stream",
     "text": [
      "Digite um palpite entre 1 e 100>:  11\n"
     ]
    },
    {
     "name": "stdout",
     "output_type": "stream",
     "text": [
      "Seu palpite foi menor. Tente um número maior!\n",
      "Seu palpite está FRIO\n"
     ]
    },
    {
     "name": "stdin",
     "output_type": "stream",
     "text": [
      "Digite um palpite entre 1 e 100>:  12\n"
     ]
    },
    {
     "name": "stdout",
     "output_type": "stream",
     "text": [
      "Seu palpite foi menor. Tente um número maior!\n",
      "Seu palpite está QUENTE\n"
     ]
    },
    {
     "name": "stdin",
     "output_type": "stream",
     "text": [
      "Digite um palpite entre 1 e 100>:  13\n"
     ]
    },
    {
     "name": "stdout",
     "output_type": "stream",
     "text": [
      "Seu palpite foi menor. Tente um número maior!\n",
      "Seu palpite está QUENTE\n"
     ]
    },
    {
     "name": "stdin",
     "output_type": "stream",
     "text": [
      "Digite um palpite entre 1 e 100>:  14\n"
     ]
    },
    {
     "name": "stdout",
     "output_type": "stream",
     "text": [
      "Seu palpite foi menor. Tente um número maior!\n",
      "Seu palpite está QUENTE\n"
     ]
    },
    {
     "name": "stdin",
     "output_type": "stream",
     "text": [
      "Digite um palpite entre 1 e 100>:  16\n"
     ]
    },
    {
     "name": "stdout",
     "output_type": "stream",
     "text": [
      "Seu palpite foi menor. Tente um número maior!\n",
      "Seu palpite está QUENTE\n"
     ]
    },
    {
     "name": "stdin",
     "output_type": "stream",
     "text": [
      "Digite um palpite entre 1 e 100>:  17\n"
     ]
    },
    {
     "name": "stdout",
     "output_type": "stream",
     "text": [
      "Parabéns! Você acertou!!\n"
     ]
    },
    {
     "name": "stdin",
     "output_type": "stream",
     "text": [
      "Deseja continuar? S/N:  N\n"
     ]
    }
   ],
   "source": [
    "while True:\n",
    "    # Carregar em uma variável o valor aleatório \n",
    "    n = randint(1,100)\n",
    "        \n",
    "    while True:\n",
    "        # Solicita um palpite para o usuário\n",
    "        # P palpite - N número sorteado - D distância\n",
    "        p = int(input(\"Digite um palpite entre 1 e 100>: \"))\n",
    "         # Compara o palpite com o número sorteado (aleatório)\n",
    "        d = abs(p - n)\n",
    "        if d > 5:\n",
    "            qf = \"FRIO\"\n",
    "        else:\n",
    "            qf = \"QUENTE\"\n",
    "        if p == n:\n",
    "            print(\"Parabéns! Você acertou!!\")\n",
    "            break\n",
    "        elif p > n:\n",
    "            print(\"Seu palpite foi maior. Tente um número menor!\")\n",
    "        else:\n",
    "            print(\"Seu palpite foi menor. Tente um número maior!\")\n",
    "        print(\"Seu palpite está\", qf)\n",
    "    sn = input(\"Deseja continuar? S/N: \")\n",
    "    if sn == \"N\":\n",
    "        break\n",
    "    \n"
   ]
  },
  {
   "cell_type": "code",
   "execution_count": null,
   "id": "65ab8986-9c85-4d90-a966-5cde38d88f21",
   "metadata": {},
   "outputs": [],
   "source": []
  }
 ],
 "metadata": {
  "kernelspec": {
   "display_name": "Python [conda env:anaconda3]",
   "language": "python",
   "name": "conda-env-anaconda3-py"
  },
  "language_info": {
   "codemirror_mode": {
    "name": "ipython",
    "version": 3
   },
   "file_extension": ".py",
   "mimetype": "text/x-python",
   "name": "python",
   "nbconvert_exporter": "python",
   "pygments_lexer": "ipython3",
   "version": "3.13.5"
  }
 },
 "nbformat": 4,
 "nbformat_minor": 5
}
