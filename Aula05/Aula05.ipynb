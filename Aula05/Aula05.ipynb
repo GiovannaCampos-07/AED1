{
 "cells": [
  {
   "cell_type": "code",
   "execution_count": 1,
   "id": "600ad59c-6b72-422a-8652-70af9d1c1939",
   "metadata": {},
   "outputs": [],
   "source": [
    "from math import sqrt"
   ]
  },
  {
   "cell_type": "code",
   "execution_count": 5,
   "id": "85a418f5-768a-4608-8f0b-cd477dbfe647",
   "metadata": {},
   "outputs": [],
   "source": [
    "x = 2"
   ]
  },
  {
   "cell_type": "code",
   "execution_count": 7,
   "id": "dccb795e-3e88-4975-865b-f63d662e39c6",
   "metadata": {},
   "outputs": [],
   "source": [
    "y = (((2*x**2-3*x**(x+1))/2)+(sqrt(x+1)/x))/(2*x)"
   ]
  },
  {
   "cell_type": "code",
   "execution_count": 9,
   "id": "21d32153-d451-4bd9-947b-5545506eb782",
   "metadata": {},
   "outputs": [
    {
     "name": "stdout",
     "output_type": "stream",
     "text": [
      "-1.7834936490538904\n"
     ]
    }
   ],
   "source": [
    "print(y)"
   ]
  },
  {
   "cell_type": "code",
   "execution_count": null,
   "id": "aa38499e-ed2e-413f-ac3b-33327eaddbf4",
   "metadata": {},
   "outputs": [],
   "source": []
  }
 ],
 "metadata": {
  "kernelspec": {
   "display_name": "Python [conda env:anaconda3]",
   "language": "python",
   "name": "conda-env-anaconda3-py"
  },
  "language_info": {
   "codemirror_mode": {
    "name": "ipython",
    "version": 3
   },
   "file_extension": ".py",
   "mimetype": "text/x-python",
   "name": "python",
   "nbconvert_exporter": "python",
   "pygments_lexer": "ipython3",
   "version": "3.13.5"
  }
 },
 "nbformat": 4,
 "nbformat_minor": 5
}
