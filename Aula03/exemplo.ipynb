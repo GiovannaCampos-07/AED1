{
 "cells": [
  {
   "cell_type": "markdown",
   "id": "688b2f12-f4b5-4208-8e73-569af4c61cb6",
   "metadata": {},
   "source": [
    "2+3"
   ]
  },
  {
   "cell_type": "code",
   "execution_count": 2,
   "id": "8aa4d86b-1e97-4ebd-b9b9-244219f42138",
   "metadata": {},
   "outputs": [
    {
     "data": {
      "text/plain": [
       "5"
      ]
     },
     "execution_count": 2,
     "metadata": {},
     "output_type": "execute_result"
    }
   ],
   "source": [
    "2+3"
   ]
  },
  {
   "cell_type": "code",
   "execution_count": null,
   "id": "f0934f45-b16c-4bbc-9254-ba94f9cfc152",
   "metadata": {},
   "outputs": [],
   "source": [
    "print(\"Olá, Mundo!\n",
    "\")"
   ]
  }
 ],
 "metadata": {
  "kernelspec": {
   "display_name": "Python [conda env:base] *",
   "language": "python",
   "name": "conda-base-py"
  },
  "language_info": {
   "codemirror_mode": {
    "name": "ipython",
    "version": 3
   },
   "file_extension": ".py",
   "mimetype": "text/x-python",
   "name": "python",
   "nbconvert_exporter": "python",
   "pygments_lexer": "ipython3",
   "version": "3.12.7"
  }
 },
 "nbformat": 4,
 "nbformat_minor": 5
}
