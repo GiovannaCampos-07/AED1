{
 "cells": [
  {
   "cell_type": "code",
   "execution_count": 1,
   "id": "6fe72c78-e0dc-456e-bb38-92b19acfdb3d",
   "metadata": {},
   "outputs": [
    {
     "name": "stdout",
     "output_type": "stream",
     "text": [
      "10\n",
      "9\n",
      "8\n",
      "7\n",
      "6\n",
      "5\n",
      "4\n",
      "3\n",
      "2\n",
      "1\n"
     ]
    }
   ],
   "source": [
    "for i in range (10, 0, -1):\n",
    "    print(i)"
   ]
  },
  {
   "cell_type": "code",
   "execution_count": 7,
   "id": "28490b74-9341-48b2-b37c-0460d226e88d",
   "metadata": {},
   "outputs": [
    {
     "name": "stdin",
     "output_type": "stream",
     "text": [
      "Digite o valor de n:   5\n"
     ]
    },
    {
     "name": "stdout",
     "output_type": "stream",
     "text": [
      " O fatorial de  5 é igual a  120\n"
     ]
    }
   ],
   "source": [
    "n = int(input(\"Digite o valor de n:  \"))\n",
    "fat = 1 \n",
    "if n < 0:\n",
    "    print(\"Fatorial não existe!\")\n",
    "elif n == 0 :\n",
    "    print (\"Fatorial é igual a 1\")\n",
    "else: \n",
    "    for i in range(1, n+1):\n",
    "        fat = fat * i\n",
    "print(\" O fatorial de \", n, \"é igual a \", fat)"
   ]
  },
  {
   "cell_type": "code",
   "execution_count": 19,
   "id": "6126a898-cd6c-4909-a886-b87449cb459f",
   "metadata": {},
   "outputs": [
    {
     "name": "stdin",
     "output_type": "stream",
     "text": [
      "Digite o número:  8\n"
     ]
    },
    {
     "name": "stdout",
     "output_type": "stream",
     "text": [
      "1 x 8 = 8\n",
      "2 x 8 = 16\n",
      "3 x 8 = 24\n",
      "4 x 8 = 32\n",
      "5 x 8 = 40\n",
      "6 x 8 = 48\n",
      "7 x 8 = 56\n",
      "8 x 8 = 64\n",
      "9 x 8 = 72\n",
      "10 x 8 = 80\n"
     ]
    }
   ],
   "source": [
    "# tabuada\n",
    "n = int(input(\"Digite o número: \"))\n",
    "i = 1\n",
    "while i < 11:\n",
    "    print(i, \"x\", n, \"=\", i*n)\n",
    "    i = i + 1"
   ]
  },
  {
   "cell_type": "code",
   "execution_count": 23,
   "id": "763bc3f8-95c4-4967-8e8c-4dcaa92d74ce",
   "metadata": {},
   "outputs": [
    {
     "name": "stdout",
     "output_type": "stream",
     "text": [
      "0\n",
      "1\n",
      "2\n",
      "3\n",
      "4\n"
     ]
    }
   ],
   "source": [
    "# imprimindo os valores de 0 a 5\n",
    "for contador in range(5):\n",
    "    print(contador)"
   ]
  },
  {
   "cell_type": "code",
   "execution_count": 25,
   "id": "1a390b8d-d0c2-49c0-bcb1-86f7c56bc554",
   "metadata": {},
   "outputs": [
    {
     "name": "stdout",
     "output_type": "stream",
     "text": [
      "0\n",
      "2\n",
      "4\n",
      "6\n",
      "8\n",
      "10\n",
      "12\n",
      "14\n",
      "16\n",
      "18\n",
      "20\n",
      "22\n",
      "24\n",
      "26\n",
      "28\n",
      "30\n",
      "32\n",
      "34\n",
      "36\n",
      "38\n",
      "40\n",
      "42\n",
      "44\n",
      "46\n",
      "48\n",
      "50\n",
      "52\n",
      "54\n",
      "56\n",
      "58\n",
      "60\n",
      "62\n",
      "64\n",
      "66\n",
      "68\n",
      "70\n",
      "72\n",
      "74\n",
      "76\n",
      "78\n",
      "80\n",
      "82\n",
      "84\n",
      "86\n",
      "88\n",
      "90\n",
      "92\n",
      "94\n",
      "96\n",
      "98\n",
      "100\n"
     ]
    }
   ],
   "source": [
    "# Listando os números no intervalo entre 0 e 101, com incremento em 2\n",
    "# O 2 seria o step ou passo.\n",
    "for i in range (0, 101,2):\n",
    "    print(i)"
   ]
  },
  {
   "cell_type": "code",
   "execution_count": 3,
   "id": "ea1008ee-a42e-4f34-90cd-4d990ba8e1dd",
   "metadata": {},
   "outputs": [
    {
     "name": "stdin",
     "output_type": "stream",
     "text": [
      "Digite o peso (kg):  55\n",
      "Digite a altura (metros):  1.55\n"
     ]
    },
    {
     "name": "stdout",
     "output_type": "stream",
     "text": [
      "imc =  22.892819979188342\n"
     ]
    },
    {
     "name": "stdin",
     "output_type": "stream",
     "text": [
      "Digite o peso (kg):  53\n",
      "Digite a altura (metros):  1.55\n"
     ]
    },
    {
     "name": "stdout",
     "output_type": "stream",
     "text": [
      "imc =  22.060353798126947\n",
      " O peso medio é:  54.0\n",
      " A altura média é:  1.55\n",
      " O menor imc é:  22.060353798126947\n",
      " O maior imc é:  22.892819979188342\n"
     ]
    }
   ],
   "source": [
    "##### com for \n",
    "maior_imc = 0\n",
    "menor_imc = 100\n",
    "soma_a = 0\n",
    "soma_p = 0\n",
    "for i in range(1, 3):\n",
    "    peso = float(input(\"Digite o peso (kg): \"))\n",
    "    soma_p = soma_p + peso\n",
    "    altura = float(input(\"Digite a altura (metros): \"))\n",
    "    soma_a = soma_a + altura\n",
    "    imc = peso/ (altura ** 2)\n",
    "    if imc < menor_imc:\n",
    "        menor_imc = imc\n",
    "    if imc > maior_imc:\n",
    "        maior_imc = imc\n",
    "    print(\"imc = \", imc)\n",
    "media_p = soma_p / 2\n",
    "media_a = soma_a / 2\n",
    "print(\" O peso medio é: \", media_p)\n",
    "print(\" A altura média é: \", media_a)\n",
    "print(\" O menor imc é: \", menor_imc)\n",
    "print(\" O maior imc é: \", maior_imc)"
   ]
  },
  {
   "cell_type": "code",
   "execution_count": null,
   "id": "c09c2fda-99ae-444d-9c26-57586920746b",
   "metadata": {},
   "outputs": [],
   "source": []
  }
 ],
 "metadata": {
  "kernelspec": {
   "display_name": "Python [conda env:anaconda3]",
   "language": "python",
   "name": "conda-env-anaconda3-py"
  },
  "language_info": {
   "codemirror_mode": {
    "name": "ipython",
    "version": 3
   },
   "file_extension": ".py",
   "mimetype": "text/x-python",
   "name": "python",
   "nbconvert_exporter": "python",
   "pygments_lexer": "ipython3",
   "version": "3.13.5"
  }
 },
 "nbformat": 4,
 "nbformat_minor": 5
}
