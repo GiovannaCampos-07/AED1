{
 "cells": [
  {
   "cell_type": "code",
   "execution_count": 105,
   "id": "dc6b45fa-530a-4568-8539-0d229eedcf17",
   "metadata": {},
   "outputs": [],
   "source": [
    "# Separando a chave e o valor de um dicionário\n",
    "\n",
    "vendas_agosto = {\n",
    "    \"04/08/2025\": 2350,\n",
    "    \"05/08/2025\": 1980,\n",
    "    \"06/08/2025\": 2540,\n",
    "    \"07/08/2025\": 2100,\n",
    "    \"08/08/2025\": 3050,\n",
    "    \"11/08/2025\": 2650,\n",
    "    \"12/08/2025\": 2180,\n",
    "    \"13/08/2025\": 2760,\n",
    "    \"14/08/2025\": 2920,\n",
    "    \"15/08/2025\": 3100,\n",
    "    \"18/08/2025\": 2300,\n",
    "    \"19/08/2025\": 2430,\n",
    "    \"20/08/2025\": 2210,\n",
    "    \"21/08/2025\": 2790,\n",
    "    \"22/08/2025\": 2970,\n",
    "    \"25/08/2025\": 3100,\n",
    "    \"26/08/2025\": 2880,\n",
    "    \"27/08/2025\": 2600,\n",
    "    \"28/08/2025\": 2500,\n",
    "    \"29/08/2025\": 3400\n",
    "}\n"
   ]
  },
  {
   "cell_type": "code",
   "execution_count": 107,
   "id": "8279a446-3372-4b7c-bb88-9db9b84437df",
   "metadata": {},
   "outputs": [
    {
     "name": "stdout",
     "output_type": "stream",
     "text": [
      "Soma total das vendas do mês: 52810\n"
     ]
    }
   ],
   "source": [
    "# Calcular a soma total das vendas.\n",
    "soma_total = sum(vendas_agosto.values())\n",
    "print(\"Soma total das vendas do mês:\", soma_total)"
   ]
  },
  {
   "cell_type": "code",
   "execution_count": 109,
   "id": "999a742f-cbbe-4fce-80f6-c26221dacde8",
   "metadata": {},
   "outputs": [
    {
     "name": "stdout",
     "output_type": "stream",
     "text": [
      "Média de vendas por dia:  2640.5\n"
     ]
    }
   ],
   "source": [
    "# Calcular a média\n",
    "media = soma_total / len(vendas_agosto)\n",
    "print(\"Média de vendas por dia: \", media)"
   ]
  },
  {
   "cell_type": "code",
   "execution_count": 111,
   "id": "1baef481-555a-4b44-8ac5-314dbb67378f",
   "metadata": {},
   "outputs": [
    {
     "name": "stdout",
     "output_type": "stream",
     "text": [
      "Melhor dia: 29/08/2025 com 3400\n"
     ]
    }
   ],
   "source": [
    "# Encontrar o valor máximo de vendas e identificar qual dia corresponde a esse máximo.\n",
    "melhor_dia = \"\"\n",
    "melhor_valor = 0\n",
    "for dia, valor in vendas_agosto.items():\n",
    "    if valor > melhor_valor:\n",
    "        melhor_valor = valor\n",
    "        melhor_dia = dia\n",
    "print(\"Melhor dia:\", melhor_dia, \"com\", melhor_valor)"
   ]
  },
  {
   "cell_type": "code",
   "execution_count": 117,
   "id": "1283a35c-1ede-4f12-b52d-82c017ca66de",
   "metadata": {},
   "outputs": [
    {
     "name": "stdout",
     "output_type": "stream",
     "text": [
      "Pior dia: 05/08/2025 com 1980\n"
     ]
    }
   ],
   "source": [
    "# Encontrar o mínimo e seu dia.\n",
    "pior_dia = \"\"\n",
    "pior_valor = melhor_valor\n",
    "for dia, valor in vendas_agosto.items():\n",
    "    if valor < pior_valor:\n",
    "        pior_valor = valor\n",
    "        pior_dia = dia\n",
    "print(\"Pior dia:\", pior_dia, \"com\", pior_valor)"
   ]
  },
  {
   "cell_type": "code",
   "execution_count": 115,
   "id": "eeb9ebba-8990-47b3-be83-e23e6b84ae46",
   "metadata": {},
   "outputs": [
    {
     "name": "stdout",
     "output_type": "stream",
     "text": [
      "Diferença percentual do pico: 28.76349176292369\n"
     ]
    }
   ],
   "source": [
    "# Desafio\n",
    "diferenca_percentual = ((melhor_valor - media) / media) * 100\n",
    "print(\"Diferença percentual do pico:\", diferenca_percentual)"
   ]
  },
  {
   "cell_type": "code",
   "execution_count": 119,
   "id": "5865c414-bae6-453f-a403-0d0b548ecba5",
   "metadata": {},
   "outputs": [
    {
     "name": "stdout",
     "output_type": "stream",
     "text": [
      "Semana 1: 12020\n",
      "Semana 2: 13610\n",
      "Semana 3: 12700\n",
      "Sempre 4: 14480\n"
     ]
    }
   ],
   "source": [
    "# Semana 1: 04/08 a 08/08\n",
    "semana1 = [\n",
    "    vendas_agosto[\"04/08/2025\"],\n",
    "    vendas_agosto[\"05/08/2025\"],\n",
    "    vendas_agosto[\"06/08/2025\"],\n",
    "    vendas_agosto[\"07/08/2025\"],\n",
    "    vendas_agosto[\"08/08/2025\"]\n",
    "]\n",
    "total_semana1 = sum(semana1)\n",
    "\n",
    "#Semana 2: 11/08 a 15/08\n",
    "semana2 = [\n",
    "    vendas_agosto[\"11/08/2025\"],\n",
    "    vendas_agosto[\"12/08/2025\"],\n",
    "    vendas_agosto[\"13/08/2025\"],\n",
    "    vendas_agosto[\"14/08/2025\"],\n",
    "    vendas_agosto[\"15/08/2025\"]\n",
    "]\n",
    "total_semana2 = sum(semana2)\n",
    "\n",
    "# Semana 3: 18/08 a 22/08\n",
    "semana3 = [\n",
    "    vendas_agosto[\"18/08/2025\"],\n",
    "    vendas_agosto[\"19/08/2025\"],\n",
    "    vendas_agosto[\"20/08/2025\"],\n",
    "    vendas_agosto[\"21/08/2025\"],\n",
    "    vendas_agosto[\"22/08/2025\"]\n",
    "]\n",
    "total_semana3 = sum(semana3)\n",
    "\n",
    "# Semana 4: 25/08 a 29/08\n",
    "semana4 = [\n",
    "    vendas_agosto[\"25/08/2025\"],\n",
    "    vendas_agosto[\"26/08/2025\"],\n",
    "    vendas_agosto[\"27/08/2025\"],\n",
    "    vendas_agosto[\"28/08/2025\"],\n",
    "    vendas_agosto[\"29/08/2025\"]\n",
    "]\n",
    "total_semana4 = sum(semana4)\n",
    "\n",
    "print(\"Semana 1:\", total_semana1)\n",
    "print(\"Semana 2:\", total_semana2)\n",
    "print(\"Semana 3:\", total_semana3)\n",
    "print(\"Sempre 4:\", total_semana4)\n",
    "    "
   ]
  },
  {
   "cell_type": "code",
   "execution_count": 121,
   "id": "60732942-ed5f-437e-ab9e-ffecfd971d55",
   "metadata": {},
   "outputs": [
    {
     "ename": "SyntaxError",
     "evalue": "leading zeros in decimal integer literals are not permitted; use an 0o prefix for octal integers (2348408483.py, line 13)",
     "output_type": "error",
     "traceback": [
      "\u001b[1;36m  Cell \u001b[1;32mIn[121], line 13\u001b[1;36m\u001b[0m\n\u001b[1;33m    Melhor dia: 29/08/2025 - R$ 3.400,00\u001b[0m\n\u001b[1;37m                   ^\u001b[0m\n\u001b[1;31mSyntaxError\u001b[0m\u001b[1;31m:\u001b[0m leading zeros in decimal integer literals are not permitted; use an 0o prefix for octal integers\n"
     ]
    }
   ],
   "source": [
    "LOJA VENDE\n",
    "\n",
    "RELATÓRIO DE VENDAS \n",
    "\n",
    " Total de vendas do mês: R$ 52.810,00\n",
    " Total de vendas semanais:\n",
    "   Semana 1: R$ 12.020,00\n",
    "   Semana 2: R$ 13.610,00\n",
    "   Semana 3: R$ 12.700,00\n",
    "   Semana 4: R$ 14.480,00\n",
    "\n",
    " Média de vendas: R$ 2.640,50\n",
    " Melhor dia: 29/08/2025 - R$ 3.400,00\n",
    " Pior dia: 05/08/2025 - R$ 1.980,00\n",
    " Pico mensal: 28,76%"
   ]
  },
  {
   "cell_type": "code",
   "execution_count": null,
   "id": "4f93b55e-ac81-4fd0-ba90-d64584dc6c91",
   "metadata": {},
   "outputs": [],
   "source": []
  }
 ],
 "metadata": {
  "kernelspec": {
   "display_name": "Python [conda env:anaconda3]",
   "language": "python",
   "name": "conda-env-anaconda3-py"
  },
  "language_info": {
   "codemirror_mode": {
    "name": "ipython",
    "version": 3
   },
   "file_extension": ".py",
   "mimetype": "text/x-python",
   "name": "python",
   "nbconvert_exporter": "python",
   "pygments_lexer": "ipython3",
   "version": "3.13.5"
  }
 },
 "nbformat": 4,
 "nbformat_minor": 5
}
